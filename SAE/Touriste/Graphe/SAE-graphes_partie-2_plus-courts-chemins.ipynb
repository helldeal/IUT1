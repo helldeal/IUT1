{
 "cells": [
  {
   "cell_type": "markdown",
   "metadata": {
    "id": "ig4qj29e6Mii"
   },
   "source": [
    "# Présentation de la partie 2 de la SAE sur les graphes\n",
    "\n",
    "Dans cette seconde partie de SAE sur les graphes, l'objectif est de pouvoir faire de la recherche de plus courts chemins, en utilisant l'algorithme de Dijkstra. \n",
    "La recherche de plus courts chemins sera ensuite utilisée pour trouver les hôtels, restaurants et aire de covoiturage les plus proches d'une manifestation culturelle choisie.\n",
    "\n",
    "La représentation choisie pour les graphes est une matrice d'adjacence, qui sera représentée par un tableau de tableau (les noms des sommets sont des entiers et seront numérotés en commençant à 0). Nous considérons que le nombre de sommets du graphe ne pourra pas être modifié une fois le graphe construit. Un tableau contenant le nom associé à chaque sommet sera également créé.\n"
   ]
  },
  {
   "cell_type": "markdown",
   "metadata": {},
   "source": [
    "### Présentation du problème et choix d'une manifestation culturelle à étudier\n",
    "\n",
    "L'office de tourisme de votre département propose une liste de restaurants et d'hôtels les plus proches d'une manifestation culturelle ainsi que l'aire de covoiturage la plus proche de celle-ci. Vous aurez à implémenter les fonctions permettant de créer cette liste.\n",
    "\n",
    "Chaque binôme doit choisir la manifestation culturelle qu'il souhaite considérer et l'indiquer dans l'onglet correspondant du document partagé suivant : https://uncloud.univ-nantes.fr/index.php/s/BXwyNfYHbfKYbB8 (chaque binôme doit choisir parmi les manifestations culturelles du département assigné à son groupe)."
   ]
  },
  {
   "cell_type": "markdown",
   "metadata": {},
   "source": [
    "\n",
    "\n",
    "## Installation de graphviz pour pouvoir visualiser les graphes\n"
   ]
  },
  {
   "cell_type": "code",
   "execution_count": null,
   "metadata": {
    "id": "dJOAb8jn6bx9"
   },
   "outputs": [],
   "source": [
    "%pip install graphviz\n",
    "import graphviz\n",
    "graphviz.__version__, graphviz.version()"
   ]
  },
  {
   "cell_type": "markdown",
   "metadata": {
    "id": "Nvb-erzR_nnA"
   },
   "source": [
    "\n",
    "\n",
    "## Création d'une fonction de conversion d'un graphe, défini par une matrice d'adjacence, vers le format graphviz\n"
   ]
  },
  {
   "cell_type": "code",
   "execution_count": null,
   "metadata": {
    "id": "JVyp5Hg4_udn"
   },
   "outputs": [],
   "source": [
    "def creation_graphe_graphviz(g):\n",
    "    # création d'un graphe non orienté\n",
    "    dot = graphviz.Graph()\n",
    "    \n",
    "    # ajout des sommets\n",
    "    for i in range(len(g)):\n",
    "        dot.node(str(i))\n",
    "    \n",
    "    # ajout des arcs\n",
    "    for i in range(len(g)):\n",
    "        for j in range(i):\n",
    "            if g[i][j] == 1:\n",
    "                dot.edge(str(i), str(j))\n",
    "    \n",
    "    return dot"
   ]
  },
  {
   "cell_type": "markdown",
   "metadata": {},
   "source": [
    "## Fonctions utiles pour manipuler les graphes"
   ]
  },
  {
   "cell_type": "markdown",
   "metadata": {},
   "source": [
    "#### Fonction qui construit un graphe vide (sans aretes), avec le nombre de sommets donné, et qui retourne la matrice d'adjacence correspondante"
   ]
  },
  {
   "cell_type": "code",
   "execution_count": null,
   "metadata": {},
   "outputs": [],
   "source": [
    "def graphe_vide(n):\n",
    "    g = []\n",
    "    for i in range(n):\n",
    "        l = []\n",
    "        for j in range(n):\n",
    "            l.append(0)\n",
    "        g.append(l)\n",
    "    return g"
   ]
  },
  {
   "cell_type": "markdown",
   "metadata": {},
   "source": [
    "#### Fonction qui retourne vrai si l'arete, dont les numéros de sommets extrémités sont donnés, existe"
   ]
  },
  {
   "cell_type": "code",
   "execution_count": null,
   "metadata": {},
   "outputs": [],
   "source": [
    "def est_arete(g, i, j):\n",
    "    return g[i][j]"
   ]
  },
  {
   "cell_type": "markdown",
   "metadata": {},
   "source": [
    "#### Fonction qui calcule les successeurs d'un sommet"
   ]
  },
  {
   "cell_type": "code",
   "execution_count": null,
   "metadata": {},
   "outputs": [],
   "source": [
    "def successeurs(g, i):\n",
    "    succs = []\n",
    "    \n",
    "    for x in g[i]:\n",
    "        if x:\n",
    "            succs.append(x)\n",
    "    \n",
    "    return succs"
   ]
  },
  {
   "cell_type": "markdown",
   "metadata": {},
   "source": [
    "#### Fonction qui importe un graphe contenu dans un fichier, au format dot"
   ]
  },
  {
   "cell_type": "code",
   "execution_count": null,
   "metadata": {},
   "outputs": [],
   "source": [
    "def importe_graphe(fich):\n",
    "    graphe=graphviz.Source.from_file(fich)\n",
    "    graphe.view()\n",
    "    return graphe"
   ]
  },
  {
   "cell_type": "code",
   "execution_count": null,
   "metadata": {},
   "outputs": [],
   "source": [
    "graphe=importe_graphe(\"grapheStablesCliques.dot\")\n",
    "print(graphe)"
   ]
  },
  {
   "cell_type": "markdown",
   "metadata": {},
   "source": [
    "#### Fonction qui exporte un graphe dans un fichier, au format dot"
   ]
  },
  {
   "cell_type": "code",
   "execution_count": null,
   "metadata": {},
   "outputs": [],
   "source": [
    "def exporte_graphe(fich, graphe, noms_sommets):\n",
    "    dot = graphviz.Graph()  \n",
    "    for i in range(len(graphe)):\n",
    "        dot.node(str(i),str(noms_sommets[i]))\n",
    "        for y in range(i,len(graphe)):\n",
    "            if graphe[i][y]:\n",
    "                dot.edge(str(i),str(y))\n",
    "    dot.save(fich)\n",
    "    return "
   ]
  },
  {
   "cell_type": "code",
   "execution_count": null,
   "metadata": {},
   "outputs": [],
   "source": [
    "# Test export\n",
    "\n",
    "#nomssom=[\"A\",\"B\",\"C\"]\n",
    "#exporte_graphe(\"test.dot\",graphe,nomssom)"
   ]
  },
  {
   "cell_type": "markdown",
   "metadata": {},
   "source": [
    "## Calcul de plus courts chemins avec l'algorithme de Dijkstra"
   ]
  },
  {
   "cell_type": "markdown",
   "metadata": {},
   "source": [
    "#### Fonction qui implémente l'algorithme de Dijkstra pour le calcul de plus courts chemins, à partir d'un sommet de départ s, et qui retourne le tableau des distances du sommet s aux autres sommets ainsi que le tableau des sommets prédécesseurs sur les plus courts chemins"
   ]
  },
  {
   "cell_type": "code",
   "execution_count": null,
   "metadata": {},
   "outputs": [],
   "source": [
    "def algo_dijkstra(s, graphe):\n",
    "    sommet_passe=[]\n",
    "    dij=[]\n",
    "    add=0\n",
    "    while len(dij)<len(graphe):\n",
    "        sommet_passe.append(s)\n",
    "        dijs=[]\n",
    "        for i in range(len(graphe[s])):\n",
    "            if i in sommet_passe:\n",
    "                dijs.append(0)\n",
    "            elif graphe[s][i]==0:\n",
    "                if len(dij)>0:\n",
    "                    dijs.append(dij[-1][i])\n",
    "                else:\n",
    "                    dijs.append(0)\n",
    "            else :\n",
    "                dijs.append(graphe[s][i]+add)\n",
    "        \n",
    "        if len(dij)>0:\n",
    "            for i in range(len(dijs)):\n",
    "                if dijs[i]>dij[-1][i] and dij[-1][i]!=0:\n",
    "                    dijs[i]=dij[-1][i]\n",
    "                \n",
    "        dij.append(dijs)\n",
    "        if dijs.count(0)<len(dijs):\n",
    "            add=sorted(dijs)[dijs.count(0)]\n",
    "            s=dijs.index(add)\n",
    "    dijlist=[]\n",
    "    for i in range(len(dij)):\n",
    "        max=0\n",
    "        for y in range(len(dij[i])):\n",
    "            if max < dij[y][i]:\n",
    "                max=dij[y][i]\n",
    "        dijlist.append(max)\n",
    "    return dijlist"
   ]
  },
  {
   "cell_type": "code",
   "execution_count": null,
   "metadata": {},
   "outputs": [],
   "source": [
    "# test de la fonction algo_dikstra avec un ou deux petits graphes\n",
    "graphe2=[[0,1,2,0,0,0,0],\n",
    "         [1,0,0,2,0,3,0],\n",
    "         [2,0,0,3,4,0,0],\n",
    "         [0,2,3,0,2,3,3],\n",
    "         [0,0,4,2,0,0,5],\n",
    "         [0,3,0,3,0,0,4],\n",
    "         [0,0,0,3,5,4,0]]\n",
    "algo_dijkstra(0,graphe2)"
   ]
  },
  {
   "cell_type": "markdown",
   "metadata": {},
   "source": [
    "## Création de graphes de distances entre points"
   ]
  },
  {
   "cell_type": "markdown",
   "metadata": {},
   "source": [
    "#### Installation de geopy pour calculer des distances à partir de coordonnées gps"
   ]
  },
  {
   "cell_type": "code",
   "execution_count": 1,
   "metadata": {},
   "outputs": [
    {
     "name": "stdout",
     "output_type": "stream",
     "text": [
      "Requirement already satisfied: geopy in c:\\users\\alexa\\appdata\\local\\programs\\python\\python310\\lib\\site-packages (2.2.0)\n",
      "Requirement already satisfied: geographiclib<2,>=1.49 in c:\\users\\alexa\\appdata\\local\\programs\\python\\python310\\lib\\site-packages (from geopy) (1.52)\n",
      "Note: you may need to restart the kernel to use updated packages.\n"
     ]
    }
   ],
   "source": [
    "%pip install geopy\n",
    "import geopy\n",
    "from geopy.distance import geodesic as gd\n",
    "import pandas as pd"
   ]
  },
  {
   "cell_type": "markdown",
   "metadata": {},
   "source": [
    "#### Fonction qui crée un graphe de distance entre un sommet de départ, dont le nom et les coordonnées gps sont données (latitude et longitude), et des sommets contenus dans un fichier csv, pour un département choisi"
   ]
  },
  {
   "cell_type": "code",
   "execution_count": 2,
   "metadata": {},
   "outputs": [],
   "source": [
    "def cree_graphe_distances(nom_sommet, lat_sommet, long_sommet, fich_csv, dpt):\n",
    "    sommet=(lat_sommet, long_sommet)\n",
    "    info_csv=[nom_sommet]\n",
    "    data = pd.read_csv(fich_csv , sep=\";\")\n",
    "    for i in data.departement:\n",
    "        if i==dpt:\n",
    "            long_csv=data[\"Longitude\"]\n",
    "            lat_csv=data[\"Latitude\"]\n",
    "            nom=data[\"Nom de l'offre touristique\"]\n",
    "            info1=data[data.columns[1]]\n",
    "            info2=data[data.columns[2]]\n",
    "            adr1=data[\"Adresse1\"]\n",
    "            adr2=data[\"Adresse2\"]\n",
    "            adr3=data[\"Adresse3\"]\n",
    "\n",
    "\n",
    "            list_coord=[sommet]\n",
    "            for i in range(len(long_csv)):\n",
    "                info_csv.append((nom[i],info1[i],info2[i],adr1[i],adr2[i],adr3[i]))\n",
    "                list_coord.append((long_csv[i],lat_csv[i]))\n",
    "    g=[]\n",
    "    for y in list_coord:\n",
    "        g.append(gd(list_coord[0],y).m)\n",
    "    \n",
    "                \n",
    "    return info_csv,g        \n",
    "            "
   ]
  },
  {
   "cell_type": "code",
   "execution_count": null,
   "metadata": {},
   "outputs": [],
   "source": [
    "cree_graphe_distances(\"oui\",77.0,88.0,\"Donnees-csv/Donnees-csv/234400034_070-006_offre-touristique-hotels-rpdl.csv\", \"Loire-Atlantique\")"
   ]
  },
  {
   "cell_type": "markdown",
   "metadata": {},
   "source": [
    "## Calcul de plus courts chemins, en utilisant l'algorithme de Dijkstra implémenté \n",
    "\n",
    "Vous donnerez le nom et l'adresse des lieux à lister."
   ]
  },
  {
   "cell_type": "markdown",
   "metadata": {},
   "source": [
    "#### Quel est l'hôtel le plus proche de la manifestation culturelle choisie ?"
   ]
  },
  {
   "cell_type": "code",
   "execution_count": 6,
   "metadata": {},
   "outputs": [
    {
     "data": {
      "text/plain": [
       "('LE PRESSOIR HOTEL',\n",
       " '3 étoiles',\n",
       " 'Hôtel - Restaurant',\n",
       " nan,\n",
       " '12 rue du champ de la croix',\n",
       " 'Zone artisanale du Pressoir')"
      ]
     },
     "execution_count": 6,
     "metadata": {},
     "output_type": "execute_result"
    }
   ],
   "source": [
    "info,g=cree_graphe_distances(\"L'APÉRO DU 14 JUILLET\",48.097,-0.354,\"Donnees-csv/Donnees-csv/234400034_070-006_offre-touristique-hotels-rpdl.csv\", \"Mayenne\")\n",
    "distance = [x for _,x in sorted(zip(g,info))]\n",
    "distance[1]\n"
   ]
  },
  {
   "cell_type": "markdown",
   "metadata": {},
   "source": [
    "#### Quels sont les 10 hôtels les plus proches de la manifestation culturelle choisie ?"
   ]
  },
  {
   "cell_type": "code",
   "execution_count": 3,
   "metadata": {},
   "outputs": [
    {
     "name": "stdout",
     "output_type": "stream",
     "text": [
      "('LE PRESSOIR HOTEL', '3 étoiles', 'Hôtel - Restaurant', nan, '12 rue du champ de la croix', 'Zone artisanale du Pressoir')\n",
      "('HOTEL DE FRANCE', 'Non classé', 'Hôtel', nan, \"5 place de l'Hôtel de ville\", nan)\n",
      "(\"HOTEL D'ANGLETERRE\", '3 étoiles', 'Hôtel - Restaurant', nan, '9 rue du Guichet', nan)\n",
      "('HOTEL LA GARGOTE', 'Non classé', 'Hôtel - Restaurant', nan, '2 rue du Lac', nan)\n",
      "('LE SAINT PIERRE', 'Non classé', 'Hôtel - Restaurant', nan, '42 rue Nationale', 'Ruillé sur Loir')\n",
      "('HÔTEL DE FRANCE', '3 étoiles', 'Hôtel - Restaurant', nan, '20, place de la République', nan)\n",
      "('HOTEL LE RELAIS DU CHAPEAU ROUGE', 'Non classé', 'Hôtel - Restaurant', nan, \"6 place de l'Hôtel de Ville\", nan)\n",
      "('HOTEL DE LA GARE', 'Non classé', 'Hôtel - Restaurant', nan, '170  avenue Jean Jaurès', 'Château du Loir')\n",
      "('HOTEL-RESTAURANT LOGIS LE GRAND HOTEL', '3 étoiles', 'Hôtel - Restaurant', nan, '59 rue Aristide Briand', 'Château du Loir')\n",
      "(\"HÔTEL FONTEVRAUD L'HÔTEL\", '4 étoiles', 'Hôtel - Restaurant', nan, 'Abbaye de Fontevraud', \"38 rue St-Jean de l'Habit\")\n"
     ]
    }
   ],
   "source": [
    "info,g=cree_graphe_distances(\"L'APÉRO DU 14 JUILLET\",48.097,-0.354,\"Donnees-csv/Donnees-csv/234400034_070-006_offre-touristique-hotels-rpdl.csv\", \"Mayenne\")\n",
    "distance = [x for _,x in sorted(zip(g,info))]\n",
    "for i in range(1,11):\n",
    "    print(distance[i])"
   ]
  },
  {
   "cell_type": "markdown",
   "metadata": {},
   "source": [
    "#### Quels sont les 10 hôtels 3 étoiles les plus proches de la manifestation culturelle choisie ?"
   ]
  },
  {
   "cell_type": "code",
   "execution_count": 4,
   "metadata": {},
   "outputs": [
    {
     "name": "stdout",
     "output_type": "stream",
     "text": [
      "('LE PRESSOIR HOTEL', '3 étoiles', 'Hôtel - Restaurant', nan, '12 rue du champ de la croix', 'Zone artisanale du Pressoir')\n",
      "(\"HOTEL D'ANGLETERRE\", '3 étoiles', 'Hôtel - Restaurant', nan, '9 rue du Guichet', nan)\n",
      "('HÔTEL DE FRANCE', '3 étoiles', 'Hôtel - Restaurant', nan, '20, place de la République', nan)\n",
      "('HOTEL-RESTAURANT LOGIS LE GRAND HOTEL', '3 étoiles', 'Hôtel - Restaurant', nan, '59 rue Aristide Briand', 'Château du Loir')\n",
      "('HÔTEL LA CROIX BLANCHE FONTEVRAUD', '3 étoiles', 'Hôtel - Restaurant', nan, '5-7, place des Plantagenêts', nan)\n",
      "('HÔTEL LE BUSSY', '3 étoiles', 'Hôtel', nan, \"4 rue Jehanne d'Arc\", nan)\n",
      "('HÔTEL LE DOMAINE DE MESTRÉ', '3 étoiles', 'Hôtel - Restaurant', nan, 'Lieu dit Mestré', nan)\n",
      "('HOTEL AKENA', '3 étoiles', 'Hôtel', 'RD 1 - Route de Saint Calais', nan, 'RD 1')\n",
      "('AUBERGE DU CHEVAL BLANC', '3 étoiles', 'Hôtel - Restaurant', nan, '1, rue du Beau Soleil', nan)\n",
      "('HÔTEL LA DEMEURE DE LA VIGNOLE', '3 étoiles', 'Hôtel', nan, '3 IMPASSE MARGUERITE D ANJOU', nan)\n"
     ]
    }
   ],
   "source": [
    "info,g=cree_graphe_distances(\"L'APÉRO DU 14 JUILLET\",48.097,-0.354,\"Donnees-csv/Donnees-csv/234400034_070-006_offre-touristique-hotels-rpdl.csv\", \"Mayenne\")\n",
    "distance = [x for _,x in sorted(zip(g,info))]\n",
    "x=10\n",
    "i=0\n",
    "while x>0:\n",
    "    i+=1\n",
    "    if distance[i][1]==\"3 étoiles\":\n",
    "        print(distance[i])\n",
    "        x-=1"
   ]
  },
  {
   "cell_type": "markdown",
   "metadata": {},
   "source": [
    "#### Quel est l'hôtel 4 étoile le plus proche de la manifestation culturelle choisie ?"
   ]
  },
  {
   "cell_type": "code",
   "execution_count": 5,
   "metadata": {},
   "outputs": [
    {
     "name": "stdout",
     "output_type": "stream",
     "text": [
      "(\"HÔTEL FONTEVRAUD L'HÔTEL\", '4 étoiles', 'Hôtel - Restaurant', nan, 'Abbaye de Fontevraud', \"38 rue St-Jean de l'Habit\")\n"
     ]
    }
   ],
   "source": [
    "info,g=cree_graphe_distances(\"L'APÉRO DU 14 JUILLET\",48.097,-0.354,\"Donnees-csv/Donnees-csv/234400034_070-006_offre-touristique-hotels-rpdl.csv\", \"Mayenne\")\n",
    "distance = [x for _,x in sorted(zip(g,info))]\n",
    "x=1\n",
    "i=0\n",
    "while x>0:\n",
    "    i+=1\n",
    "    if distance[i][1]==\"4 étoiles\":\n",
    "        print(distance[i])\n",
    "        x-=1\n"
   ]
  }
 ],
 "metadata": {
  "colab": {
   "collapsed_sections": [],
   "name": "coloration_graphes.ipynb",
   "provenance": []
  },
  "kernelspec": {
   "display_name": "Python 3.10.2 64-bit",
   "language": "python",
   "name": "python3"
  },
  "language_info": {
   "codemirror_mode": {
    "name": "ipython",
    "version": 3
   },
   "file_extension": ".py",
   "mimetype": "text/x-python",
   "name": "python",
   "nbconvert_exporter": "python",
   "pygments_lexer": "ipython3",
   "version": "3.10.2"
  },
  "vscode": {
   "interpreter": {
    "hash": "bbc3c3d932324566a9bf4b4a52ddf64063695fc3adbf25b3fda92572428493bb"
   }
  }
 },
 "nbformat": 4,
 "nbformat_minor": 1
}
